{
 "cells": [
  {
   "cell_type": "markdown",
   "metadata": {
    "colab_type": "text",
    "deletable": true,
    "editable": true,
    "id": "kL9VPYin9nOD"
   },
   "source": [
    "![](https://i.imgur.com/0AUxkXt.png)\n",
    "\n",
    "# SF Salaries Exercise \n",
    "\n",
    "Explore San Francisco city employee salary data.\n",
    "\n",
    "## Overview\n",
    "\n",
    "One way to understand how a city government works is by looking at who it employs and how its employees are compensated. This data contains the names, job title, and compensation for San Francisco city employees on an annual basis from 2011 to 2014.\n",
    "\n",
    "\n",
    "\n",
    "Just follow along and complete the tasks outlined in bold below. The tasks will get harder and harder as you go along.\n",
    "\n",
    "## Resourses\n",
    "\n",
    "[Pandas API Reference](https://pandas.pydata.org/pandas-docs/stable/api.html)\n",
    "\n",
    "[NumPy Reference](https://docs.scipy.org/doc/numpy/reference/)\n",
    "\n",
    "[Visualization with Seaborn](https://jakevdp.github.io/PythonDataScienceHandbook/04.14-visualization-with-seaborn.html)\n"
   ]
  },
  {
   "cell_type": "markdown",
   "metadata": {
    "colab_type": "text",
    "deletable": true,
    "editable": true,
    "id": "ueY1PMBl9nOF"
   },
   "source": [
    "**Import libraries**"
   ]
  },
  {
   "cell_type": "code",
   "execution_count": 1,
   "metadata": {
    "colab": {},
    "colab_type": "code",
    "collapsed": true,
    "deletable": true,
    "editable": true,
    "id": "dnwk5LCx9nOG"
   },
   "outputs": [],
   "source": [
    "import pandas as pd\n",
    "import numpy as np\n",
    "import matplotlib.pyplot as plt\n",
    "import seaborn as sns\n",
    "import io\n",
    "import requests"
   ]
  },
  {
   "cell_type": "markdown",
   "metadata": {
    "colab_type": "text",
    "deletable": true,
    "editable": true,
    "id": "jiOt1hEM9nOJ"
   },
   "source": [
    "**Read `Salaries.csv` as a dataframe called `sal`.**"
   ]
  },
  {
   "cell_type": "code",
   "execution_count": 2,
   "metadata": {
    "colab": {},
    "colab_type": "code",
    "collapsed": true,
    "deletable": true,
    "editable": true,
    "id": "FtA68BoY9nOJ"
   },
   "outputs": [],
   "source": [
    "link = \"https://s3-ap-southeast-1.amazonaws.com/intro-to-ml-minhdh/Salaries.csv\"\n",
    "s=requests.get(link).content\n",
    "sal=pd.read_csv(io.StringIO(s.decode('utf-8')))"
   ]
  },
  {
   "cell_type": "markdown",
   "metadata": {
    "colab_type": "text",
    "deletable": true,
    "editable": true,
    "id": "QW6hV4iv9nOM"
   },
   "source": [
    "**Check the head of the DataFrame.**"
   ]
  },
  {
   "cell_type": "code",
   "execution_count": 3,
   "metadata": {
    "colab": {},
    "colab_type": "code",
    "collapsed": false,
    "deletable": true,
    "editable": true,
    "id": "oa2JHHJ99nON"
   },
   "outputs": [
    {
     "data": {
      "text/html": [
       "<div>\n",
       "<table border=\"1\" class=\"dataframe\">\n",
       "  <thead>\n",
       "    <tr style=\"text-align: right;\">\n",
       "      <th></th>\n",
       "      <th>Id</th>\n",
       "      <th>EmployeeName</th>\n",
       "      <th>JobTitle</th>\n",
       "      <th>BasePay</th>\n",
       "      <th>OvertimePay</th>\n",
       "      <th>OtherPay</th>\n",
       "      <th>Benefits</th>\n",
       "      <th>TotalPay</th>\n",
       "      <th>TotalPayBenefits</th>\n",
       "      <th>Year</th>\n",
       "      <th>Notes</th>\n",
       "      <th>Agency</th>\n",
       "      <th>Status</th>\n",
       "    </tr>\n",
       "  </thead>\n",
       "  <tbody>\n",
       "    <tr>\n",
       "      <th>0</th>\n",
       "      <td>1</td>\n",
       "      <td>NATHANIEL FORD</td>\n",
       "      <td>GENERAL MANAGER-METROPOLITAN TRANSIT AUTHORITY</td>\n",
       "      <td>167411.18</td>\n",
       "      <td>0.00</td>\n",
       "      <td>400184.25</td>\n",
       "      <td>NaN</td>\n",
       "      <td>567595.43</td>\n",
       "      <td>567595.43</td>\n",
       "      <td>2011</td>\n",
       "      <td>NaN</td>\n",
       "      <td>San Francisco</td>\n",
       "      <td>NaN</td>\n",
       "    </tr>\n",
       "    <tr>\n",
       "      <th>1</th>\n",
       "      <td>2</td>\n",
       "      <td>GARY JIMENEZ</td>\n",
       "      <td>CAPTAIN III (POLICE DEPARTMENT)</td>\n",
       "      <td>155966.02</td>\n",
       "      <td>245131.88</td>\n",
       "      <td>137811.38</td>\n",
       "      <td>NaN</td>\n",
       "      <td>538909.28</td>\n",
       "      <td>538909.28</td>\n",
       "      <td>2011</td>\n",
       "      <td>NaN</td>\n",
       "      <td>San Francisco</td>\n",
       "      <td>NaN</td>\n",
       "    </tr>\n",
       "    <tr>\n",
       "      <th>2</th>\n",
       "      <td>3</td>\n",
       "      <td>ALBERT PARDINI</td>\n",
       "      <td>CAPTAIN III (POLICE DEPARTMENT)</td>\n",
       "      <td>212739.13</td>\n",
       "      <td>106088.18</td>\n",
       "      <td>16452.60</td>\n",
       "      <td>NaN</td>\n",
       "      <td>335279.91</td>\n",
       "      <td>335279.91</td>\n",
       "      <td>2011</td>\n",
       "      <td>NaN</td>\n",
       "      <td>San Francisco</td>\n",
       "      <td>NaN</td>\n",
       "    </tr>\n",
       "    <tr>\n",
       "      <th>3</th>\n",
       "      <td>4</td>\n",
       "      <td>CHRISTOPHER CHONG</td>\n",
       "      <td>WIRE ROPE CABLE MAINTENANCE MECHANIC</td>\n",
       "      <td>77916.00</td>\n",
       "      <td>56120.71</td>\n",
       "      <td>198306.90</td>\n",
       "      <td>NaN</td>\n",
       "      <td>332343.61</td>\n",
       "      <td>332343.61</td>\n",
       "      <td>2011</td>\n",
       "      <td>NaN</td>\n",
       "      <td>San Francisco</td>\n",
       "      <td>NaN</td>\n",
       "    </tr>\n",
       "    <tr>\n",
       "      <th>4</th>\n",
       "      <td>5</td>\n",
       "      <td>PATRICK GARDNER</td>\n",
       "      <td>DEPUTY CHIEF OF DEPARTMENT,(FIRE DEPARTMENT)</td>\n",
       "      <td>134401.60</td>\n",
       "      <td>9737.00</td>\n",
       "      <td>182234.59</td>\n",
       "      <td>NaN</td>\n",
       "      <td>326373.19</td>\n",
       "      <td>326373.19</td>\n",
       "      <td>2011</td>\n",
       "      <td>NaN</td>\n",
       "      <td>San Francisco</td>\n",
       "      <td>NaN</td>\n",
       "    </tr>\n",
       "  </tbody>\n",
       "</table>\n",
       "</div>"
      ],
      "text/plain": [
       "   Id       EmployeeName                                        JobTitle  \\\n",
       "0   1     NATHANIEL FORD  GENERAL MANAGER-METROPOLITAN TRANSIT AUTHORITY   \n",
       "1   2       GARY JIMENEZ                 CAPTAIN III (POLICE DEPARTMENT)   \n",
       "2   3     ALBERT PARDINI                 CAPTAIN III (POLICE DEPARTMENT)   \n",
       "3   4  CHRISTOPHER CHONG            WIRE ROPE CABLE MAINTENANCE MECHANIC   \n",
       "4   5    PATRICK GARDNER    DEPUTY CHIEF OF DEPARTMENT,(FIRE DEPARTMENT)   \n",
       "\n",
       "     BasePay  OvertimePay   OtherPay  Benefits   TotalPay  TotalPayBenefits  \\\n",
       "0  167411.18         0.00  400184.25       NaN  567595.43         567595.43   \n",
       "1  155966.02    245131.88  137811.38       NaN  538909.28         538909.28   \n",
       "2  212739.13    106088.18   16452.60       NaN  335279.91         335279.91   \n",
       "3   77916.00     56120.71  198306.90       NaN  332343.61         332343.61   \n",
       "4  134401.60      9737.00  182234.59       NaN  326373.19         326373.19   \n",
       "\n",
       "   Year  Notes         Agency  Status  \n",
       "0  2011    NaN  San Francisco     NaN  \n",
       "1  2011    NaN  San Francisco     NaN  \n",
       "2  2011    NaN  San Francisco     NaN  \n",
       "3  2011    NaN  San Francisco     NaN  \n",
       "4  2011    NaN  San Francisco     NaN  "
      ]
     },
     "execution_count": 3,
     "metadata": {},
     "output_type": "execute_result"
    }
   ],
   "source": [
    "sal.head()"
   ]
  },
  {
   "cell_type": "markdown",
   "metadata": {
    "colab_type": "text",
    "deletable": true,
    "editable": true,
    "id": "LgRIzJ_l9nOP"
   },
   "source": [
    "**Use the .info() method to find out how many entries there are.**"
   ]
  },
  {
   "cell_type": "code",
   "execution_count": 4,
   "metadata": {
    "colab": {},
    "colab_type": "code",
    "collapsed": false,
    "deletable": true,
    "editable": true,
    "id": "JuwgdTfz9nOP"
   },
   "outputs": [
    {
     "name": "stdout",
     "output_type": "stream",
     "text": [
      "<class 'pandas.core.frame.DataFrame'>\n",
      "RangeIndex: 148654 entries, 0 to 148653\n",
      "Data columns (total 13 columns):\n",
      "Id                  148654 non-null int64\n",
      "EmployeeName        148654 non-null object\n",
      "JobTitle            148654 non-null object\n",
      "BasePay             148045 non-null float64\n",
      "OvertimePay         148650 non-null float64\n",
      "OtherPay            148650 non-null float64\n",
      "Benefits            112491 non-null float64\n",
      "TotalPay            148654 non-null float64\n",
      "TotalPayBenefits    148654 non-null float64\n",
      "Year                148654 non-null int64\n",
      "Notes               0 non-null float64\n",
      "Agency              148654 non-null object\n",
      "Status              0 non-null float64\n",
      "dtypes: float64(8), int64(2), object(3)\n",
      "memory usage: 14.7+ MB\n"
     ]
    }
   ],
   "source": [
    "sal.info()"
   ]
  },
  {
   "cell_type": "markdown",
   "metadata": {
    "colab_type": "text",
    "deletable": true,
    "editable": true,
    "id": "RgO49aNW9nOR"
   },
   "source": [
    "**What is the average BasePay ?**\n",
    "\n",
    "Keyword: [mean](https://pandas.pydata.org/pandas-docs/stable/generated/pandas.DataFrame.mean.html)"
   ]
  },
  {
   "cell_type": "code",
   "execution_count": 5,
   "metadata": {
    "colab": {},
    "colab_type": "code",
    "collapsed": false,
    "deletable": true,
    "editable": true,
    "id": "twQu_3xj9nOS"
   },
   "outputs": [
    {
     "data": {
      "text/plain": [
       "66325.4488404877"
      ]
     },
     "execution_count": 5,
     "metadata": {},
     "output_type": "execute_result"
    }
   ],
   "source": [
    "sal['BasePay'].mean()"
   ]
  },
  {
   "cell_type": "markdown",
   "metadata": {
    "colab_type": "text",
    "deletable": true,
    "editable": true,
    "id": "qQc-OERD9nOU"
   },
   "source": [
    "**What is the lowest and highest amount of BasePay?**\n",
    "\n",
    "Keyword: \n",
    "[min](https://pandas.pydata.org/pandas-docs/stable/generated/pandas.DataFrame.min.html) , \n",
    "[max](https://pandas.pydata.org/pandas-docs/stable/generated/pandas.DataFrame.max.html)"
   ]
  },
  {
   "cell_type": "code",
   "execution_count": 6,
   "metadata": {
    "colab": {},
    "colab_type": "code",
    "collapsed": false,
    "deletable": true,
    "editable": true,
    "id": "22XKRdg49nOV"
   },
   "outputs": [
    {
     "name": "stdout",
     "output_type": "stream",
     "text": [
      "lowest amount of BasePay is -166.01 and highest amount of BasePay is 319275.01\n"
     ]
    }
   ],
   "source": [
    "print(\"lowest amount of BasePay is {0} and highest amount of BasePay is {1}\".format(sal['BasePay'].min(), sal['BasePay'].max()))"
   ]
  },
  {
   "cell_type": "markdown",
   "metadata": {
    "colab_type": "text",
    "deletable": true,
    "editable": true,
    "id": "-MdkKp6U9nOa"
   },
   "source": [
    "**How about OvertimePay in the dataset? What is the average, lowest, highest amount?**"
   ]
  },
  {
   "cell_type": "code",
   "execution_count": 7,
   "metadata": {
    "colab": {},
    "colab_type": "code",
    "collapsed": false,
    "deletable": true,
    "editable": true,
    "id": "Og2yxCil9nOb"
   },
   "outputs": [
    {
     "name": "stdout",
     "output_type": "stream",
     "text": [
      "average amount OvertimePay is 5066.059886444667, lowest amount OvertimePay is -0.01 and highest OvertimePay amount is 245131.88, \n"
     ]
    }
   ],
   "source": [
    "print(\"average amount OvertimePay is {0}, lowest amount OvertimePay is {1} and highest OvertimePay amount is {2}, \".\n",
    "      format(sal['OvertimePay'].mean(), sal['OvertimePay'].min(), sal['OvertimePay'].max()))"
   ]
  },
  {
   "cell_type": "markdown",
   "metadata": {
    "colab_type": "text",
    "deletable": true,
    "editable": true,
    "id": "mF0zrXXh9nOf"
   },
   "source": [
    "**What is the job title of  JOSEPH DRISCOLL ? Note: Use all caps, otherwise you may get an answer that doesn't match up (there is also a lowercase Joseph Driscoll).**"
   ]
  },
  {
   "cell_type": "code",
   "execution_count": 8,
   "metadata": {
    "colab": {},
    "colab_type": "code",
    "collapsed": false,
    "deletable": true,
    "editable": true,
    "id": "wbqO05iu9nOh"
   },
   "outputs": [
    {
     "data": {
      "text/plain": [
       "24    CAPTAIN, FIRE SUPPRESSION\n",
       "Name: JobTitle, dtype: object"
      ]
     },
     "execution_count": 8,
     "metadata": {},
     "output_type": "execute_result"
    }
   ],
   "source": [
    "sal.query(\"EmployeeName=='JOSEPH DRISCOLL'\")['JobTitle']\n"
   ]
  },
  {
   "cell_type": "code",
   "execution_count": 9,
   "metadata": {
    "colab": {},
    "colab_type": "code",
    "collapsed": false,
    "deletable": true,
    "editable": true,
    "id": "MwzxTlI29nOl"
   },
   "outputs": [
    {
     "data": {
      "text/html": [
       "<div>\n",
       "<table border=\"1\" class=\"dataframe\">\n",
       "  <thead>\n",
       "    <tr style=\"text-align: right;\">\n",
       "      <th></th>\n",
       "      <th>Id</th>\n",
       "      <th>EmployeeName</th>\n",
       "      <th>JobTitle</th>\n",
       "      <th>BasePay</th>\n",
       "      <th>OvertimePay</th>\n",
       "      <th>OtherPay</th>\n",
       "      <th>Benefits</th>\n",
       "      <th>TotalPay</th>\n",
       "      <th>TotalPayBenefits</th>\n",
       "      <th>Year</th>\n",
       "      <th>Notes</th>\n",
       "      <th>Agency</th>\n",
       "      <th>Status</th>\n",
       "    </tr>\n",
       "  </thead>\n",
       "  <tbody>\n",
       "    <tr>\n",
       "      <th>1</th>\n",
       "      <td>2</td>\n",
       "      <td>GARY JIMENEZ</td>\n",
       "      <td>CAPTAIN III (POLICE DEPARTMENT)</td>\n",
       "      <td>155966.02</td>\n",
       "      <td>245131.88</td>\n",
       "      <td>137811.38</td>\n",
       "      <td>NaN</td>\n",
       "      <td>538909.28</td>\n",
       "      <td>538909.28</td>\n",
       "      <td>2011</td>\n",
       "      <td>NaN</td>\n",
       "      <td>San Francisco</td>\n",
       "      <td>NaN</td>\n",
       "    </tr>\n",
       "  </tbody>\n",
       "</table>\n",
       "</div>"
      ],
      "text/plain": [
       "   Id  EmployeeName                         JobTitle    BasePay  OvertimePay  \\\n",
       "1   2  GARY JIMENEZ  CAPTAIN III (POLICE DEPARTMENT)  155966.02    245131.88   \n",
       "\n",
       "    OtherPay  Benefits   TotalPay  TotalPayBenefits  Year  Notes  \\\n",
       "1  137811.38       NaN  538909.28         538909.28  2011    NaN   \n",
       "\n",
       "          Agency  Status  \n",
       "1  San Francisco     NaN  "
      ]
     },
     "execution_count": 9,
     "metadata": {},
     "output_type": "execute_result"
    }
   ],
   "source": [
    "# Now try to select Employees who have name \"GARY JIMENEZ\"\n",
    "# Your code here\n",
    "sal.query(\"EmployeeName=='GARY JIMENEZ'\")"
   ]
  },
  {
   "cell_type": "markdown",
   "metadata": {
    "colab_type": "text",
    "deletable": true,
    "editable": true,
    "id": "0nrHI4iu9nOn"
   },
   "source": [
    "**How much does JOSEPH DRISCOLL make (including benefits)?**"
   ]
  },
  {
   "cell_type": "code",
   "execution_count": 10,
   "metadata": {
    "colab": {},
    "colab_type": "code",
    "collapsed": false,
    "deletable": true,
    "editable": true,
    "id": "TUZlBSDE9nOo"
   },
   "outputs": [
    {
     "data": {
      "text/plain": [
       "24    270324.91\n",
       "Name: TotalPayBenefits, dtype: float64"
      ]
     },
     "execution_count": 10,
     "metadata": {},
     "output_type": "execute_result"
    }
   ],
   "source": [
    "sal.query(\"EmployeeName=='JOSEPH DRISCOLL'\")['TotalPayBenefits']\n"
   ]
  },
  {
   "cell_type": "markdown",
   "metadata": {
    "colab_type": "text",
    "deletable": true,
    "editable": true,
    "id": "1thjd2GC9nOq"
   },
   "source": [
    "**What is the name of highest paid person (including benefits)?**"
   ]
  },
  {
   "cell_type": "code",
   "execution_count": 11,
   "metadata": {
    "colab": {},
    "colab_type": "code",
    "collapsed": false,
    "deletable": true,
    "editable": true,
    "id": "msrq-7Ww9nOr"
   },
   "outputs": [
    {
     "data": {
      "text/plain": [
       "0    NATHANIEL FORD\n",
       "Name: EmployeeName, dtype: object"
      ]
     },
     "execution_count": 11,
     "metadata": {},
     "output_type": "execute_result"
    }
   ],
   "source": [
    "sal[sal['TotalPayBenefits']==sal['TotalPayBenefits'].max()]['EmployeeName']"
   ]
  },
  {
   "cell_type": "markdown",
   "metadata": {
    "colab_type": "text",
    "deletable": true,
    "editable": true,
    "id": "uF2kX93x9nOu"
   },
   "source": [
    "**What is the name of lowest paid person (including benefits)? Do you notice something strange about how much he or she is paid?**"
   ]
  },
  {
   "cell_type": "code",
   "execution_count": 12,
   "metadata": {
    "colab": {},
    "colab_type": "code",
    "collapsed": false,
    "deletable": true,
    "editable": true,
    "id": "htAfatTl9nOv"
   },
   "outputs": [
    {
     "data": {
      "text/plain": [
       "148653    Joe Lopez\n",
       "Name: EmployeeName, dtype: object"
      ]
     },
     "execution_count": 12,
     "metadata": {},
     "output_type": "execute_result"
    }
   ],
   "source": [
    "sal[sal['TotalPayBenefits']==sal['TotalPayBenefits'].min()]['EmployeeName']"
   ]
  },
  {
   "cell_type": "markdown",
   "metadata": {
    "colab_type": "text",
    "deletable": true,
    "editable": true,
    "id": "WB0HTvjM9nOx"
   },
   "source": [
    "**What was the average (mean) BasePay of all employees per year? (2011-2014) ?**\n",
    "Keyword: _groupby_"
   ]
  },
  {
   "cell_type": "code",
   "execution_count": 13,
   "metadata": {
    "colab": {},
    "colab_type": "code",
    "collapsed": false,
    "deletable": true,
    "editable": true,
    "id": "6Y5mUYir9nOy"
   },
   "outputs": [
    {
     "data": {
      "text/plain": [
       "Year\n",
       "2011    63595.956517\n",
       "2012    65436.406857\n",
       "2013    69630.030216\n",
       "2014    66564.421924\n",
       "Name: BasePay, dtype: float64"
      ]
     },
     "execution_count": 13,
     "metadata": {},
     "output_type": "execute_result"
    }
   ],
   "source": [
    "year_mean = sal.groupby(['Year']).mean()\n",
    "year_mean['BasePay']"
   ]
  },
  {
   "cell_type": "markdown",
   "metadata": {
    "colab_type": "text",
    "deletable": true,
    "editable": true,
    "id": "k8Qzx9MD9nO0"
   },
   "source": [
    "**How many unique job titles are there?**\n",
    "\n",
    "Keyword: _unique, nunique_"
   ]
  },
  {
   "cell_type": "code",
   "execution_count": 14,
   "metadata": {
    "colab": {},
    "colab_type": "code",
    "collapsed": false,
    "deletable": true,
    "editable": true,
    "id": "mvzwZ5Mb9nO1"
   },
   "outputs": [
    {
     "data": {
      "text/plain": [
       "array(['GENERAL MANAGER-METROPOLITAN TRANSIT AUTHORITY',\n",
       "       'CAPTAIN III (POLICE DEPARTMENT)',\n",
       "       'WIRE ROPE CABLE MAINTENANCE MECHANIC', ..., 'Conversion',\n",
       "       'Cashier 3', 'Not provided'], dtype=object)"
      ]
     },
     "execution_count": 14,
     "metadata": {},
     "output_type": "execute_result"
    }
   ],
   "source": [
    "sal['JobTitle'].unique()"
   ]
  },
  {
   "cell_type": "markdown",
   "metadata": {
    "colab_type": "text",
    "deletable": true,
    "editable": true,
    "id": "0dkyZe-39nO4"
   },
   "source": [
    "**What are the top 5 most common jobs?**\n",
    "\n",
    "Keyword: *value_counts*"
   ]
  },
  {
   "cell_type": "code",
   "execution_count": 15,
   "metadata": {
    "colab": {},
    "colab_type": "code",
    "collapsed": false,
    "deletable": true,
    "editable": true,
    "id": "PVSDr3Ww9nO7"
   },
   "outputs": [
    {
     "data": {
      "text/plain": [
       "Transit Operator                7036\n",
       "Special Nurse                   4389\n",
       "Registered Nurse                3736\n",
       "Public Svc Aide-Public Works    2518\n",
       "Police Officer 3                2421\n",
       "Name: JobTitle, dtype: int64"
      ]
     },
     "execution_count": 15,
     "metadata": {},
     "output_type": "execute_result"
    }
   ],
   "source": [
    "a = sal['JobTitle'].value_counts()\n",
    "a[:5]"
   ]
  },
  {
   "cell_type": "markdown",
   "metadata": {
    "colab_type": "text",
    "deletable": true,
    "editable": true,
    "id": "25fCX21U9nO-"
   },
   "source": [
    "**How many Job Titles were represented by only one person in 2013? (e.g. Job Titles with only one occurence in 2013?)**"
   ]
  },
  {
   "cell_type": "code",
   "execution_count": 16,
   "metadata": {
    "colab": {},
    "colab_type": "code",
    "collapsed": false,
    "deletable": true,
    "editable": true,
    "id": "e9vr6BKD9nPA"
   },
   "outputs": [
    {
     "data": {
      "text/plain": [
       "array(['Transit Operator', 'Special Nurse', 'Registered Nurse',\n",
       "       'Public Svc Aide-Public Works', 'Custodian', 'Firefighter',\n",
       "       'Police Officer 3', 'Patient Care Assistant', 'Recreation Leader',\n",
       "       'Deputy Sheriff', 'Police Officer', 'Public Service Trainee',\n",
       "       'Police Officer 2', 'Attorney (Civil/Criminal)', 'Sergeant 3',\n",
       "       'Porter', 'Eligibility Worker', 'General Laborer', 'Gardener',\n",
       "       'EMT/Paramedic/Firefighter', 'Senior Clerk',\n",
       "       'Parking Control Officer', 'Library Page',\n",
       "       'Senior Eligibility Worker', 'Senior Clerk Typist', 'Clerk',\n",
       "       'Licensed Vocational Nurse', 'Stationary Engineer',\n",
       "       'Nurse Practitioner', 'PS Aide to Prof',\n",
       "       'Electrical Transit System Mech', 'Medical Evaluations Assistant',\n",
       "       'Protective Services Worker', 'Senior Administrative Analyst',\n",
       "       'School Crossing Guard', 'Transit Supervisor', 'Museum Guard',\n",
       "       'Lieutenant, Fire Suppression', 'Food Service Worker',\n",
       "       'Publ Svc Aide-Asst to Prof', 'Community Police Services Aide',\n",
       "       'Librarian 1', 'Truck Driver', 'Pr Administrative Analyst',\n",
       "       'Assoc Engineer', 'Engineer', 'Asst Engr', 'Automotive Mechanic',\n",
       "       'Public SafetyComm Disp', 'Stationary Eng, Sewage Plant',\n",
       "       'Senior Account Clerk', 'Health Worker 3',\n",
       "       'Electronic Maintenance Tech', 'Deputy Court Clerk II',\n",
       "       'Manager III', 'Nursing Assistant', 'Health Worker 2',\n",
       "       'StdntDsgnTrain1, Arch/Eng/Plng', 'Physician Specialist',\n",
       "       'Manager I', 'Senior Physician Specialist', 'Manager II',\n",
       "       'Junior Clerk', 'Pool Lifeguard', 'Administrative Analyst',\n",
       "       'Deputy Probation Officer', 'Psychiatric Social Worker', 'Painter',\n",
       "       'Clerk Typist', 'Principal Clerk', 'PS Aide Health Services',\n",
       "       'Automotive Service Worker', 'Inspector 3',\n",
       "       'Senior Personnel Analyst', 'Manager IV', 'Senior Social Worker',\n",
       "       'Counselor, Juvenile Hall', 'Electrician', 'Lieutenant 3',\n",
       "       'Library Assistant', 'Secretary 2', 'Deputy Court Clerk III',\n",
       "       'Medical Social Worker', 'IS Business Analyst-Principal',\n",
       "       'Eng/Arch/Landscape Arch Sr', 'Transit Car Cleaner',\n",
       "       'Accountant III', 'IS Engineer-Senior', 'Account Clerk',\n",
       "       'Nurse Manager', 'Hospital Eligiblity Worker',\n",
       "       'Marriage, Family & Child Cnslr', 'Manager V',\n",
       "       'Senior Deputy Sheriff', 'IS Business Analyst-Senior',\n",
       "       'Management Assistant', 'Accountant II', 'Personnel Analyst',\n",
       "       'Library Technical Assistant 1', 'Automotive Machinist',\n",
       "       'Carpenter', 'Social Worker', 'Unit Clerk', 'Program Specialist',\n",
       "       'IT Operations Support Admn III', 'Customer Service Agent',\n",
       "       'Pharmacy Technician', 'Captain, Fire Suppression', 'Plumber',\n",
       "       'StdntDsgn Train2/Arch/Eng/Plng', 'Sr Payroll & Personnel Clerk',\n",
       "       'Swimming Instructor', 'Construction Inspector',\n",
       "       'Recreation Coordinator', 'Manager VI',\n",
       "       'StdntDsgnTrain3, Arch/Eng/Plng', 'Executive Secretary 1',\n",
       "       'Junior Engineer', 'Legal Secretary 1',\n",
       "       'Eligibility Worker Supervisor', 'Planner 3', 'Utility Plumber',\n",
       "       'Librarian 2', 'Housekeeper/Food Service Clnr',\n",
       "       'Public Health Nurse', 'Health Care Billing Clerk 2',\n",
       "       'Health Worker 1', 'Payroll Clerk', 'Executive Secretary 2',\n",
       "       'Station Agent, Muni Railway', 'Transit Fare Inspector',\n",
       "       'Physical Therapist', 'Building Inspector',\n",
       "       'Health Program Coordinator 3', 'Senior Management Assistant',\n",
       "       'Junior Administrative Analyst', 'Pharmacist',\n",
       "       'BdComm Mbr, Grp5,M$100/Mo', 'Accountant IV',\n",
       "       'Medical Records Clerk', 'Employment & Training Spec 3',\n",
       "       'Sergeant 2', 'Home Health Aide', 'Admission Attendant',\n",
       "       'Child Support Officer II', 'Custodial Assistant Supervisor',\n",
       "       \"Sheriff's Sergeant\", 'Sr. Community Devl Spc 1', 'Court Reporter',\n",
       "       'IS Engineer-Journey', 'Bldg & Grounds Patrol Officer',\n",
       "       'IS Engineer-Principal', 'Superior Court Judge',\n",
       "       'IS Business Analyst', 'Clinical Psychologist',\n",
       "       'IT Operations Support Admin IV', 'Commissioner 16.700c, No Pay',\n",
       "       'Occupational Therapist', 'IS Project Director', \"Sheriff's Cadet\",\n",
       "       'Utility Specialist', 'Senior Legal Process Clerk',\n",
       "       'Legislative Assistant', 'Nursing Supervisor', 'Camp Assistant',\n",
       "       'Junior Management Assistant', 'General Laborer Supervisor 1',\n",
       "       'Clinical Pharmacist', 'Statnry Eng Water Treat Plant',\n",
       "       'Deputy Sheriff 1', 'Senior Water Services Clerk',\n",
       "       'Head Atty, Civil & Criminal', 'Maintenance Machinist',\n",
       "       'BdComm Mbr, Grp2,M=$25/Mtg', 'Environmental Service Worker',\n",
       "       'Fare Collections Receiver', 'Commissioner No Benefits',\n",
       "       'Operating Engineer, Universal', 'Diagnostic Imaging Tech I',\n",
       "       'Airport Safety Officer', 'BdComm Mbr, Grp3,M=$50/Mtg',\n",
       "       'Senior Collections Officer', 'Medical Records Technician',\n",
       "       'Testing Technician', 'Protective Services Supervisor',\n",
       "       'Human Services Technician', 'Principal Account Clerk',\n",
       "       'Planner 2', 'Senior Personnel Clerk',\n",
       "       'Sr. Stationary Eng, Sew Plant', 'Dep Dir III', 'Cement Mason',\n",
       "       'Real Property Appraiser', 'Senior Stationary Engineer',\n",
       "       'Psychiatric Technician', 'Automotive Body & Fender Wrk',\n",
       "       \"Sheriff's Lieutenant\", 'Dep Dir II',\n",
       "       'IT Operations Support Admin II', 'Sr Environmental Hlth Insp',\n",
       "       'Emp & Training Spec 2', 'Engineering Associate 1',\n",
       "       'Parts Storekeeper', 'Park Section Supervisor', 'Storekeeper',\n",
       "       'Library Technical Assistant 2', 'Battalion Chief, Fire Suppress',\n",
       "       'Senior Parking Control Officer', 'X-Ray Laboratory Aide',\n",
       "       'DA Investigative Assist', 'Water QualityTech I/II',\n",
       "       'Diagnostic Imaging Tech II', 'Sheet Metal Worker',\n",
       "       'Communications Dispatcher 1', 'Captain 3',\n",
       "       'Claims Investigator, CA', 'Track Maintenance Worker',\n",
       "       'Sewer Service Worker', 'Deputy Court Clerk I', 'Legal Assistant',\n",
       "       'Watershed Worker (Seasonal)', 'Social Work Specialist',\n",
       "       'Sr Psychiatric Social Worker', 'Cook',\n",
       "       'Communications Dispatcher 2', 'Contract Compliance Officer 1',\n",
       "       'Airport Communications Disp', 'Central Processing & Dist Tech',\n",
       "       'IS Programmer Analyst-Senior', 'Sr Community Dev Spec 2',\n",
       "       'Senior Telephone Operator', 'Park Patrol Officer',\n",
       "       'Engineer/Architect Principal', 'Dep Dir IV', 'Sign Worker',\n",
       "       'Security Guard', 'Health Worker 4', 'Manager IV, MTA',\n",
       "       'Elections Clerk', 'Engineering Associate 2',\n",
       "       'Estate Investigator', 'Secretary 1', 'Arborist Technician',\n",
       "       'Utility Plumber Supervisor 1', 'Electrical Inspector',\n",
       "       'Watershed Keeper', 'Water Service Inspector',\n",
       "       'Planner 3-Environmental Review', 'Nutritionist', 'Manager VII',\n",
       "       \"Worker's Compensation Adjuster\", 'Housing Inspector',\n",
       "       'Assistant Chief Attorney 1', 'Manager II, MTA',\n",
       "       'Captain, Emergency Med Svcs', 'Victim/Witness Investigator 1',\n",
       "       'Public SafetyComm Supv', 'Maintenance Planner', 'Chemist I/II',\n",
       "       'Manager VIII', 'Apprentice Gardener', 'Personnel Clerk',\n",
       "       'Communications Systems Tech', 'Training Officer',\n",
       "       'Environmental Assistant', 'Assistant Purchaser',\n",
       "       'Research Asst, Superior Court', 'Accountant Intern',\n",
       "       'Electrl Trnst Mech, Asst Sprv', 'Insp, Fire Dept',\n",
       "       'Permit and Citation Clerk', 'Anesthetist',\n",
       "       'Assistant Storekeeper', 'Benefits Technician', 'Dietitian',\n",
       "       'Recreation Director', 'Counselor, Log Cabin Ranch',\n",
       "       'Executive Secretary 3', 'Employment & Training Spec 1',\n",
       "       'Swimming Instr/Pool Lifeguard', 'Asphalt Worker',\n",
       "       'Senior Food Service Worker', 'Clinical Nurse Specialist',\n",
       "       'Sr. Environmental Spec', 'Health Care Analyst',\n",
       "       'Prnpl Admin Analyst II', 'Street Inspector',\n",
       "       'Environmental Health Inspector', 'Epidemiologist 2',\n",
       "       'Health Program Coordinator 2', 'Assistant Retirement Analyst',\n",
       "       'ASR Senior Office Specialist', 'Utility Analyst', 'Cashier 2',\n",
       "       'Public Relations Officer', 'Parking Meter Repairer',\n",
       "       'Institution Utility Worker', 'Media Production Tech',\n",
       "       'Social Work Supervisor', 'Physician Assistant',\n",
       "       'Snr Permit and Citation Clerk', 'Emp & Training Spec 4',\n",
       "       'Counselor, Juvenile Hall SFERS', 'Assistant Const Inspector',\n",
       "       'Stage Electrician', 'Cashier 1', 'Cable Splicer',\n",
       "       'Environmental Spec', 'Legal Process Clerk', 'Biologist I/II',\n",
       "       'Court Supervisor II', 'Electrical Line Helper',\n",
       "       'Transit Planner III', 'IS Prg Analyst-Principal', 'Planner 4',\n",
       "       'Architectural Assistant 2', 'Transit Power Line Worker',\n",
       "       'Architectural Associate 2', 'Transit Planner 2', 'Nurse Midwife',\n",
       "       'Electr Instrmntn Tech Wtr Poll', 'Traffic Signal Electrician',\n",
       "       'Patient Svcs Finance Tech', 'Project Manager 1',\n",
       "       'Public Service Aide-Admin', 'Sr Statnry Eng, Wtr Treat Plnt',\n",
       "       'Planner 1', 'Bldgs & Grounds Maint Supt',\n",
       "       'Sr Personal Property Auditor', 'Commercial Div Asst Sprv',\n",
       "       'Chf Stationary Eng, Sew Plant', 'Community Development Spec',\n",
       "       'Invstgtor Ofc Citizen Cmplnts', 'Project Manager 2',\n",
       "       'Dental Aide', 'Lighting Fixture Maint Worker',\n",
       "       'Plumbing Inspector', 'Nurses Staffing Assistant',\n",
       "       'Electr Maint Tech Asst Sprv', 'Pr Payroll & Personnel Clerk',\n",
       "       'Car and Auto Painter', 'Contract Compliance Officer 2',\n",
       "       'Admin Hearing Examiner', 'Transit Planner 4',\n",
       "       'Traffic Survey Technician', 'Customer Service Agent Trainee',\n",
       "       'Librarian 3', 'Dep Dir V', 'Window Cleaner', 'Manager VI, MTA',\n",
       "       'Surgical Procedures Technician', 'Health Educator',\n",
       "       \"District Attry's Investigator\", 'Deputy Probation Officer SFERS',\n",
       "       'Chief Clerk', 'Court Interpreter', 'Supervising Physician Spec',\n",
       "       'Personal Property Auditor', 'Steamfitter', 'Survey Associate',\n",
       "       'Criminalist II', 'Fingerprint Technician 2', 'Manager V, MTA',\n",
       "       'IS Administrator 2', 'Airport Electrician',\n",
       "       'Recreation Specialist', 'Program Support Analyst',\n",
       "       'Train Controller', 'Dentist', 'Rehabilitation Svcs Coord',\n",
       "       'Victim/Witness Investigator 3', 'ASR-Office Assistant',\n",
       "       'IT Operations Support Admin V', 'Airport Operations Supervisor',\n",
       "       'Industrial Hygienist', 'Landscape Architect Assoc 1',\n",
       "       'Senior Const Inspector', 'Benefits Analyst', 'IS Manager',\n",
       "       'Museum Preparator', 'Architectural Assistant 1',\n",
       "       'Animal Care Attendant', 'Sr Fare Collections Receiver',\n",
       "       'IS Programmer Analyst', 'Aprntc Statnry Eng, Sew Plant',\n",
       "       'Patient Accounts Clerk', 'Chief Stationary Engineer',\n",
       "       'Public Health Team Leader', 'Assistant Recreation Director',\n",
       "       'General Utility Mechanic', 'Therapy Aide',\n",
       "       'Sergeant, (Police Department)', 'Architect',\n",
       "       'Environmental Hlth Tech 1', 'Performance Analyst II',\n",
       "       'Pile Worker', 'Electrical Line Worker', 'Engineering Assistant',\n",
       "       'Auditor II', 'Painter Supervisor 1',\n",
       "       'Planner 4-Environmental Review', 'Meter Reader',\n",
       "       'Legal Secretary 2', 'Senior Real Property Appraiser',\n",
       "       'Member, Board of Supervisors', 'Speech Pathologist',\n",
       "       'Institutional Police Officer', 'Survey Assistant II',\n",
       "       'Safety Analyst', 'Welder', 'Court Staff Attorney II',\n",
       "       'Sprv Adult Probation Ofc', 'Shelter Service Rep',\n",
       "       'Child Support Officer III', 'Senior Benefits Analyst',\n",
       "       'Senior Purchaser', 'Automotive Mechanic Asst Sprv',\n",
       "       'Sr Counselor, Juvenile Hall', 'Utility Plumber Apprentice',\n",
       "       'IT Operations Support Admin I', 'Regulatory Specialist',\n",
       "       'Airport Economic Planner', 'Airport Property Specialist 1',\n",
       "       'Animal Control Officer', 'Special Examiner', 'Auditor III',\n",
       "       'Volunteer/Outreach Coord', 'Trans Safety Specialist',\n",
       "       'Architectural Associate 1', 'Supv Chemist',\n",
       "       'Citizens Complaint Officer', 'EEO Senior Specialist',\n",
       "       'Water Operations Analyst', 'Health Program Planner',\n",
       "       'Health Care Billing Clerk 1', 'Employment & Training Spec 5',\n",
       "       'Assessor-Recorder Office Spec', 'Street Environ Svcs Oprs Supv',\n",
       "       'Health Program Coordinator 1', 'Locksmith', 'Asphalt Finisher',\n",
       "       'Dept Head I', 'Project Manager 3', 'Electrician Supervisor 1',\n",
       "       'Custodial Supervisor', 'Trans and Dist Line Worker',\n",
       "       'Asst Materials Coordinator', 'Porter Supervisor 1',\n",
       "       'Sr Marriage, Fam & Cld Cnslr', 'Wire Rope Cable Maint Mechanic',\n",
       "       'Dist Atty Investigator (SFERS)', 'Survey Assistant I',\n",
       "       'Employee Relations Representat', 'Asphalt Finisher Supervisor 1',\n",
       "       'Ornamental Iron Worker', \"Public Defender's Investigator\",\n",
       "       'Senior Water Service Inspector', 'Sr Airport Communications Disp',\n",
       "       'Fire Safety Inspector 2', 'Public Information Officer',\n",
       "       'Transit Fare Insp. Sup/Invst.', 'Mayoral Staff XV',\n",
       "       'Senior Health Program Planner', 'Personnel Technician',\n",
       "       'Maintenance Controller', 'Arts Program Assistant',\n",
       "       'Senior Industrial Hygienist', 'Principal Water Services Clerk',\n",
       "       'Lieut,Fire Prev', 'Glazier', 'Transit Car Cleaner Asst Sprv',\n",
       "       'Transit Manager 1', 'Sewage Treatment Plant Supt',\n",
       "       \"Sheriff's Property Keeper\", 'Manager VIII, MTA',\n",
       "       'Sewer Maintenance Worker', 'Senior Building Inspector',\n",
       "       'Carpenter Supervisor 1', 'Crafts Instructor',\n",
       "       'Comm Pol Svcs Aide Supervisor', 'Diagnostic Imaging Tech III',\n",
       "       'Auditor I', 'Food Service Supervisor',\n",
       "       'Aquatics Facility Asst Supv', 'Transcriber Typist',\n",
       "       \"Med Examiner's Investigator II\", 'Administrative Engineer',\n",
       "       'Power Generation Technician 2', 'Laboratory Technician II',\n",
       "       'Senior Parts Storekeeper', 'Wastewater Control Inspector',\n",
       "       'Recreation Supervisor', 'Automotive Machinist Sprv 1',\n",
       "       'Investigator, Tax Collector', 'Museum Sec Supv', 'Court Manager',\n",
       "       'Track Maint Wrk Sprv 1', 'Apprentice Stationary Engineer',\n",
       "       'Plumber Supervisor 1', 'Sprv Prob Ofc, Juv Court',\n",
       "       'Diagnostic Imaging Tech IV', 'Graphic Artist', 'Mayoral Staff IV',\n",
       "       'Counselor, Family Court Svc', 'Materials Coordinator',\n",
       "       'Perf Analyst III Project Mgr', 'Purchaser',\n",
       "       'Water Quality Tech III', 'IS Business Analyst-Assistant',\n",
       "       'Assistant Health Educator', 'Pub Safety Communication Coord',\n",
       "       'Aquatics Facility Supervisor', 'Disease Control Investigator',\n",
       "       'Epidemiologist 1', 'Senior Storekeeper',\n",
       "       'Electric Motor Repairer', 'Telephone Operator',\n",
       "       'Investigator,Taxi & AccessSvcs', 'Bldg & Grounds Maint Sprv',\n",
       "       'Utility Plumber Supervisor 2', 'Arborist Technician Supervisor',\n",
       "       'Hospital Elig Wrk Supervisor', 'Respiratory Care Practitioner',\n",
       "       'Community Development Asst', 'Switch Repairer',\n",
       "       'Sr Public Defenders Invstgtor', 'Pr Real Property Appraiser',\n",
       "       'Transit Manager 2', 'Coord of Citizen Involvement',\n",
       "       'Fingerprint Technician 1', 'Maintenance Scheduler',\n",
       "       \"Sheriff's Captain\", 'Dept Head III',\n",
       "       'Sr District Atty Investigator', 'Prpl Permit and Citation Clerk',\n",
       "       'Fire Alarm Dispatcher', 'Public Relations Assistant',\n",
       "       'Microbiologist', 'Curator 2', 'Property Manager, Port',\n",
       "       'Curator 3', 'Safety Officer', 'Dept Head II', 'Deputy Chief 3',\n",
       "       'Senior Comm Systems Technican', 'Automotive Trnst Shop Sprv 1',\n",
       "       'Senior Fiscal Technician', 'Victim/Witness Investigator 2',\n",
       "       'Roofer', 'Automotive Mechanic Sprv 1',\n",
       "       'Principal Environ Specialist', 'Biologist III',\n",
       "       'Inspector, Weights & Measures', 'Microphoto/Imaging Technician',\n",
       "       'Brd Comm Mbr, M=$200/Mtg', 'Integrated Pest Mgmt Specialst',\n",
       "       \"Med Examiner's Investigator I\", 'Capt,Fire Prev or Fire Invsgtn',\n",
       "       'Customer Service Agent Supv', 'Landscape Architect Assoc 2',\n",
       "       'Claims Investigator', 'Manager VII, MTA', 'Manager III, MTA',\n",
       "       'Urban Forestry Inspector', 'Asst Chf Victim/Wit Invstgtor',\n",
       "       'Sr Power Generation Tech', 'Asst Chf of Dept (Fire Dept)',\n",
       "       'Benefits Supervisor', 'Janitorial Svcs Asst Sprv',\n",
       "       'Project Manager 4', 'Medical Records Tech Sprv',\n",
       "       'Criminal Justice Specialist 2', 'Structural Engineer',\n",
       "       'Planner 5', 'Elections Worker', 'Auto Machinist Asst Sprv',\n",
       "       'Senior Power House Operator', 'Pipe Welder',\n",
       "       'Court Invstgtor, Superior Crt', 'City Planning Intern',\n",
       "       'Commander 3', 'Dept Head IV', 'Materials Testing Technician',\n",
       "       'Assistant Chief Attorney 2', 'Emergency Services Coord III',\n",
       "       'Chf Payroll & Personnel Clerk', 'Legislative Asst City Atty Ofc',\n",
       "       'Dept Head V', 'Fiscal Technician',\n",
       "       'Asst General Services Manager', 'Emergency Med Svcs Agency Spec',\n",
       "       'Marina Assistant Manager', 'Chemist III',\n",
       "       \"Asst Chf Dist Atty's Invstgtor\", 'Dep Dir I',\n",
       "       'Transit Traffic Checker', 'IS Engineer-Assistant',\n",
       "       'Pharmacy Helper', 'Asst Forensic Toxicologist 1', 'Chef',\n",
       "       'Security Analyst', 'Mayoral Staff IX', 'Offset Machine Operator',\n",
       "       'Water Meter Repairer', 'Supervising Pharmacist',\n",
       "       'Transit Operations Specialist', 'Mayoral Staff XVI',\n",
       "       'Senior Physical Therapist', 'Media/Security Sys Spec',\n",
       "       'Sr. Microphoto/Imaging Tech.', 'Dietetic Technician',\n",
       "       'Power Generation Supervisor', 'Assessment Clerk',\n",
       "       'Supervising Purchaser', 'Chief Building Inspector',\n",
       "       'Transit Power Line Sprv1', 'Pr Personal Property Auditor',\n",
       "       'Pilot of Fire Boats', 'Mental Hlth Treatment Spec',\n",
       "       'Power House Operator', 'Child Care Specialist',\n",
       "       'Asst Electronic Main Tech', 'EEO Programs Specialist',\n",
       "       'Welfare Fraud Investigator', 'Events & Facilities Specialist',\n",
       "       'Counselor,Log Cabin Rnch SFERS', 'Pr Environmental Hlth Insp',\n",
       "       'Inventory Clerk', 'Fire Rescue Paramedic', 'Mayoral Staff XIII',\n",
       "       'Bricklayer', 'Physical Therapist Assistant',\n",
       "       'Patient Accounts Asst Sprv', 'Patient Accounts Supervisor',\n",
       "       'Senior Medical Social Worker', 'Med Staff Svcs Dept Spc',\n",
       "       'Transit Information Clerk', 'Chf Statnry Eng,WtrTreat Plnt',\n",
       "       'Assistant Deputy Chief 2', 'Mayoral Staff XVII',\n",
       "       'Soft Floor Coverer', 'Coord, Human Rights Comm',\n",
       "       'Morgue Attendant', 'Program Specialist Supervisor',\n",
       "       'Maintenance Machinist Sprv 1', 'Chief Surveyor',\n",
       "       'Rep, Human Rights Comm', 'Nursery Specialist',\n",
       "       'Senior Occupational Therapist', 'Curator 4', 'Deputy Dir I, MTA',\n",
       "       'Claims Adjuster', 'Special Assistant 10',\n",
       "       'Heavy Equipment Ops Sprv', 'Rehabilitation Counselor',\n",
       "       'Hodcarrier', 'Supv Biologist', 'Fire Protection Engineer',\n",
       "       'Radiologic Tech Sprv', 'Court Training Specialist',\n",
       "       'Nursing Supervisor Psychiatric', 'Photographer',\n",
       "       'Dental Hygienist', 'Fingerprint Technician 3',\n",
       "       'Deputy Dir II, MTA', 'Assistant Cook',\n",
       "       'Div Director, Adult Probation', 'Sheet Metal Supervisor 1',\n",
       "       'Parking Meter Repairer Sprv 1', 'Tile Setter',\n",
       "       'Illustrator and Art Designer', 'Stable Attendant',\n",
       "       'Architectural Administrator', 'Power Generation Technician 1',\n",
       "       'Animal Keeper', 'Associate Museum Registrar',\n",
       "       'Senior Laundry Worker', 'Senior Street Inspector',\n",
       "       'Chief Atty1 (Civil & Criminal)', 'Sprv Electronic Main Tech',\n",
       "       'Communication Line Sprv1', 'Medical Transcriber Typist',\n",
       "       'Porter Assistant Supervisor', 'Criminalist III',\n",
       "       'Mayoral Staff XIV', 'Materials Testing Aide',\n",
       "       'IS Administrator 3', 'Water Conservation Admin',\n",
       "       'Sprv Clincal Psychologist', 'Sprv Wastewater Cont Inspector',\n",
       "       'Auto Svc Wrk Asst Sprv', 'Asst Med Examiner', 'Mayoral Staff XI',\n",
       "       'Electrical Transit Shop Sprv 1', 'Electrical Trnst Mech Sprv 1',\n",
       "       'Senior Museum Registrar', 'Asst Clk, Board of Supervisors',\n",
       "       'SrClaimsInvstgtor,Cty Atty Ofc', 'Stores & Equip Asst Sprv',\n",
       "       'Research Assistant', 'Senior Microbiologist',\n",
       "       'Senior Housing Inspector', 'Senior Estate Investigator',\n",
       "       'Senior Unit Clerk', 'Document Examiner Technician',\n",
       "       'Sprv, Traffic & Street Signs', 'Probate Examiner',\n",
       "       'Marine Engineer of Fire Boats', 'Incident Support Specialist',\n",
       "       'AprntcStatnry Eng,WtrTreatPlnt', 'Principal Personnel Analyst',\n",
       "       'Sewer Repair Supervisor', 'Administrative Services Mgr',\n",
       "       'Child Support Officer I', 'Cement Finisher Supervisor 1',\n",
       "       'Airport Noise Abatement Spec', 'Emergency Services Coord II',\n",
       "       'Animal Health Technician', 'IS Administrator-Supervisor',\n",
       "       'Head Park Patrol Officer', 'Chief Water Service Inspector',\n",
       "       'Criminalist I', 'Lieutenant 2', 'Counselor 2',\n",
       "       'Special Assistant 3', 'Curator 1', 'Watershed Keeper Supervisor',\n",
       "       'Planner Technician', 'Accountant I',\n",
       "       'Cfdntal Chf Atty 2,(Cvl&Crmnl)', 'Invstgtor,Fire Dept',\n",
       "       'Piledriver Supervisor 1', 'Food Service Mgr Administrator',\n",
       "       'Landscape Architect', 'Executive Contract Employee',\n",
       "       'Senior Health Educator', 'Medical Social Work Supervisor',\n",
       "       'Court Commissioner', 'IS Trainer-Assistant',\n",
       "       'IS Program Analyst-Assistant', 'Senior Electrical Inpsector',\n",
       "       'Senior Property Manager, Port', 'Water & Power Maint Sprv 1',\n",
       "       'Ct Comp Sys Engineer II', 'Traf Signal Electrician Sup I',\n",
       "       'Inspector 2', 'Maritime Marketing Repr',\n",
       "       'Transmission Line Supervisor 1', 'Senior Plumbing Inspector',\n",
       "       'Chief Deputy Sheriff', 'Fusion Welder', 'IS Trainer-Journey',\n",
       "       'Maintenance Manager', 'Assistant Counselor',\n",
       "       'Senior Emp Relations Repres', 'Airport Emerg Planning Coord',\n",
       "       'Admin Analyst 3', 'Heavy Equip Ops Asst Sprv',\n",
       "       'Airport Electrician Supervisor', 'Street Repair Supervisor 2',\n",
       "       'Emergency Planning Coordinator', 'Ct Comp App Programmer',\n",
       "       'Duty Officer', 'Court Alternative Specialist 1',\n",
       "       'Assistant Inspector 3', 'Electrician Supervisor 2',\n",
       "       'Building Plans Engineer', 'Personnel/Payroll Repres',\n",
       "       'Fiscal Services Supervisor', 'Parking Enforcement Admin',\n",
       "       'Book Repairer', 'Mayoral Staff II', \"Worker's Comp Supervisor 1\",\n",
       "       'Principal Mgmt Analyst', 'Court Computer Sys Manager',\n",
       "       'Wharfinger 2', 'Senior Real Property Officer',\n",
       "       'Sr Court Staff Attorney', 'Pattern Maker',\n",
       "       'Inspector, (Police Department)', 'Public Relations Mgr',\n",
       "       'Special Assistant 22', 'Principal Parts Storekeeper',\n",
       "       'Pr Fare Collections Receiver', 'Mail & Reproduction Svc Sprv',\n",
       "       'Barber', 'Sr Human Resources Analyst', 'Carpenter Supervisor 2',\n",
       "       'Forester', 'Court Administrator', 'Institutional Police Sergeant',\n",
       "       'Patient Accounts Manager', 'Janitorial Services Supervisor',\n",
       "       'Line Inspector', 'Chief Preparator',\n",
       "       'Forensic Laboratory Technician', 'Forensic Autopsy Technician',\n",
       "       'Sr Investigator, OCC', 'Audiologist', 'Court Paralegal',\n",
       "       'Industrial Injury Investigator', 'Elevator and Crane Technician',\n",
       "       'Chief Dietitian', 'Building Services Technician',\n",
       "       'Transit Power Cable Splicer', 'Supt Water Treatment Fac',\n",
       "       'Emergency Services Coord IV', 'Senior Claims Investigator',\n",
       "       'Court Administrative Secretary', 'Media Production Supv',\n",
       "       \"Med Examiner's InvestigatorIII\", 'Chf Prob Ofc, Juv Court',\n",
       "       'Supv Bldg Grounds Patrol Ofcr', 'Sr Transit Information Clerk',\n",
       "       'Dir of Act, Therapy & Vol Svcs', 'Youth Comm Advisor',\n",
       "       'Sctry, Bldg Inspection Comm', 'Sr Cent Proc & Dist Tech',\n",
       "       'Agricultural Inspector', 'Heating/Ventilating Inspector',\n",
       "       'Main Machinist Asst Sprv', 'Lab Svcs Mgr',\n",
       "       'Ex Asst to Admin, SFGH', 'Dep Chf of Dept (Fire Dept)',\n",
       "       'Manager,Employee Relations Div', 'Sr Materials & Supplies Sprv',\n",
       "       'Airports Communications Sprv', 'Museum Registrar',\n",
       "       'Med Staff Svcs Dept Anl', 'Locksmith Supervisor 1',\n",
       "       'IS Operator-Senior', 'Special Assistant 19', 'Mayoral Staff V',\n",
       "       'Piledriver Engine Operator', 'Govrnmt/Publ Affairs Mgr',\n",
       "       'Mgr, Unified Family Court Svcs', 'Ct Comp App Analyst',\n",
       "       'Steamfitter Supervisor I', 'Watershed Forester',\n",
       "       'Ct Comp Facilities Coord', 'Asst.Dep.Dir., Port',\n",
       "       'Communications Line Wrk Sprv 2', 'Beautician',\n",
       "       'Rep, Comm Status of Women', 'Water Const&Main Supt',\n",
       "       'Street Inspection Supervisor', 'Real Property Manager',\n",
       "       'Shelter Veterinarian', 'Collection Supervisor'], dtype=object)"
      ]
     },
     "execution_count": 16,
     "metadata": {},
     "output_type": "execute_result"
    }
   ],
   "source": [
    "A = sal.query('Year==2013')\n",
    "A_temp = A['JobTitle'].value_counts()\n",
    "A_temp_1 = A_temp[A_temp > 1].index.values\n",
    "A_temp_1"
   ]
  },
  {
   "cell_type": "markdown",
   "metadata": {
    "colab_type": "text",
    "deletable": true,
    "editable": true,
    "id": "HoiNghja9nPD"
   },
   "source": [
    "**How many people have the word Chief in their job title?**"
   ]
  },
  {
   "cell_type": "code",
   "execution_count": 19,
   "metadata": {
    "colab": {},
    "colab_type": "code",
    "collapsed": false,
    "deletable": true,
    "editable": true,
    "id": "mBc0hzan9nPE"
   },
   "outputs": [
    {
     "data": {
      "text/plain": [
       "423"
      ]
     },
     "execution_count": 19,
     "metadata": {},
     "output_type": "execute_result"
    }
   ],
   "source": [
    "A=sal.query(\"JobTitle.str.contains('Chief')\")\n",
    "A['Id'].count()"
   ]
  },
  {
   "cell_type": "code",
   "execution_count": null,
   "metadata": {
    "colab": {},
    "colab_type": "code",
    "collapsed": true,
    "deletable": true,
    "editable": true,
    "id": "u40e_Ua89nPF"
   },
   "outputs": [],
   "source": []
  },
  {
   "cell_type": "code",
   "execution_count": null,
   "metadata": {
    "colab": {},
    "colab_type": "code",
    "collapsed": true,
    "deletable": true,
    "editable": true,
    "id": "SA7QNzVq9nPI"
   },
   "outputs": [],
   "source": []
  },
  {
   "cell_type": "markdown",
   "metadata": {
    "colab_type": "text",
    "deletable": true,
    "editable": true,
    "id": "5G094gws9nPL"
   },
   "source": [
    "## Data Visualization\n",
    "\n",
    "**Implement seaborn's countplot with x='Year'**"
   ]
  },
  {
   "cell_type": "code",
   "execution_count": 21,
   "metadata": {
    "colab": {},
    "colab_type": "code",
    "collapsed": false,
    "deletable": true,
    "editable": true,
    "id": "56GKG4UD9nPM",
    "scrolled": true
   },
   "outputs": [
    {
     "data": {
      "image/png": "[encoded data removed]",
      "text/plain": [
       "<matplotlib.figure.Figure at 0x1bd235f3dd8>"
      ]
     },
     "metadata": {},
     "output_type": "display_data"
    }
   ],
   "source": [
    "sns.countplot(x='Year', data = sal)\n",
    "plt.show()"
   ]
  },
  {
   "cell_type": "markdown",
   "metadata": {
    "colab_type": "text",
    "deletable": true,
    "editable": true,
    "id": "orQACfVP9nPP"
   },
   "source": [
    "**Implement seaborn's distplot for BasePay of Year 2011**"
   ]
  },
  {
   "cell_type": "code",
   "execution_count": 26,
   "metadata": {
    "colab": {},
    "colab_type": "code",
    "collapsed": false,
    "deletable": true,
    "editable": true,
    "id": "JYPrrLW19nPQ"
   },
   "outputs": [
    {
     "data": {
      "image/png": "[encoded data removed]",
      "text/plain": [
       "<matplotlib.figure.Figure at 0x1bd7c326ba8>"
      ]
     },
     "metadata": {},
     "output_type": "display_data"
    }
   ],
   "source": [
    "A = sal.query(\"Year==2011\")\n",
    "sns.distplot(A['BasePay'])\n",
    "plt.show()"
   ]
  },
  {
   "cell_type": "markdown",
   "metadata": {
    "colab_type": "text",
    "deletable": true,
    "editable": true,
    "id": "Ea9OFiqK9nPS"
   },
   "source": [
    "**How about other Year**"
   ]
  },
  {
   "cell_type": "code",
   "execution_count": 28,
   "metadata": {
    "colab": {},
    "colab_type": "code",
    "collapsed": false,
    "deletable": true,
    "editable": true,
    "id": "orRMn0X89nPT"
   },
   "outputs": [
    {
     "data": {
      "image/png": "[encoded data removed]",
      "text/plain": [
       "<matplotlib.figure.Figure at 0x1bd79947eb8>"
      ]
     },
     "metadata": {},
     "output_type": "display_data"
    }
   ],
   "source": [
    "A = sal.query(\"Year==2012\")\n",
    "sns.distplot(A['BasePay'])\n",
    "plt.show()"
   ]
  },
  {
   "cell_type": "markdown",
   "metadata": {
    "colab_type": "text",
    "deletable": true,
    "editable": true,
    "id": "00EkkG_s9nPV"
   },
   "source": [
    "## Bonus\n",
    "\n",
    "**Visualize top 5 Jobs with BasePay, Benefits and OvertimePay**\n",
    "\n",
    "Keyword: *index, isin, groupby, mean, plot*"
   ]
  },
  {
   "cell_type": "code",
   "execution_count": null,
   "metadata": {
    "colab": {},
    "colab_type": "code",
    "collapsed": true,
    "deletable": true,
    "editable": true,
    "id": "LoZm87Bu9nPV"
   },
   "outputs": [],
   "source": []
  },
  {
   "cell_type": "code",
   "execution_count": null,
   "metadata": {
    "colab": {},
    "colab_type": "code",
    "collapsed": false,
    "deletable": true,
    "editable": true,
    "id": "C-nKGOA-9nPY",
    "outputId": "a4a94735-1f45-4d7c-dc75-3606cfd52969"
   },
   "outputs": [],
   "source": []
  },
  {
   "cell_type": "markdown",
   "metadata": {
    "colab_type": "text",
    "deletable": true,
    "editable": true,
    "id": "V2Lz3SGu9nPc"
   },
   "source": [
    "**Fun Fact: Is there a correlation between length of the Job Title string and Salary?**\n",
    "\n",
    "*Hint: corr()*"
   ]
  },
  {
   "cell_type": "code",
   "execution_count": null,
   "metadata": {
    "colab": {},
    "colab_type": "code",
    "collapsed": true,
    "deletable": true,
    "editable": true,
    "id": "CgcrtPdJ9nPd"
   },
   "outputs": [],
   "source": []
  },
  {
   "cell_type": "code",
   "execution_count": null,
   "metadata": {
    "colab": {},
    "colab_type": "code",
    "collapsed": true,
    "deletable": true,
    "editable": true,
    "id": "G8SQ0NhI9nPe"
   },
   "outputs": [],
   "source": []
  },
  {
   "cell_type": "markdown",
   "metadata": {
    "colab_type": "text",
    "deletable": true,
    "editable": true,
    "id": "gY4kMupD9nPg"
   },
   "source": [
    "# Great Job!"
   ]
  }
 ],
 "metadata": {
  "colab": {
   "collapsed_sections": [],
   "name": "DAwP_Assignment_2.ipynb",
   "provenance": [],
   "version": "0.3.2"
  },
  "kernelspec": {
   "display_name": "Python 3",
   "language": "python",
   "name": "python3"
  },
  "language_info": {
   "codemirror_mode": {
    "name": "ipython",
    "version": 3
   },
   "file_extension": ".py",
   "mimetype": "text/x-python",
   "name": "python",
   "nbconvert_exporter": "python",
   "pygments_lexer": "ipython3",
   "version": "3.5.2"
  }
 },
 "nbformat": 4,
 "nbformat_minor": 0
}
